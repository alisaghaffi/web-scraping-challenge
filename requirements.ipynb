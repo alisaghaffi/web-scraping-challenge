{
 "cells": [
  {
   "cell_type": "code",
   "execution_count": 3,
   "id": "2470b1e7-13d8-45df-8867-14205ede65c5",
   "metadata": {},
   "outputs": [
    {
     "name": "stdout",
     "output_type": "stream",
     "text": [
      "Requirement already satisfied: splinter in c:\\users\\alisa\\anaconda3\\lib\\site-packages (0.18.0)\n",
      "Note: you may need to restart the kernel to use updated packages.\n"
     ]
    }
   ],
   "source": [
    "pip install splinter"
   ]
  },
  {
   "cell_type": "code",
   "execution_count": 4,
   "id": "aa0bc513-3bd7-4441-bdee-cdb1e2fceba7",
   "metadata": {},
   "outputs": [
    {
     "name": "stdout",
     "output_type": "stream",
     "text": [
      "Requirement already satisfied: selenium in c:\\users\\alisa\\anaconda3\\lib\\site-packages (4.2.0)Note: you may need to restart the kernel to use updated packages.\n",
      "Requirement already satisfied: trio~=0.17 in c:\\users\\alisa\\anaconda3\\lib\\site-packages (from selenium) (0.21.0)\n",
      "Requirement already satisfied: urllib3[secure,socks]~=1.26 in c:\\users\\alisa\\anaconda3\\lib\\site-packages (from selenium) (1.26.7)\n",
      "Requirement already satisfied: trio-websocket~=0.9 in c:\\users\\alisa\\anaconda3\\lib\\site-packages (from selenium) (0.9.2)\n",
      "Requirement already satisfied: sniffio in c:\\users\\alisa\\anaconda3\\lib\\site-packages (from trio~=0.17->selenium) (1.2.0)\n",
      "Requirement already satisfied: cffi>=1.14 in c:\\users\\alisa\\anaconda3\\lib\\site-packages (from trio~=0.17->selenium) (1.14.6)\n",
      "\n",
      "Requirement already satisfied: outcome in c:\\users\\alisa\\anaconda3\\lib\\site-packages (from trio~=0.17->selenium) (1.1.0)\n",
      "Requirement already satisfied: attrs>=19.2.0 in c:\\users\\alisa\\anaconda3\\lib\\site-packages (from trio~=0.17->selenium) (21.2.0)\n",
      "Requirement already satisfied: sortedcontainers in c:\\users\\alisa\\anaconda3\\lib\\site-packages (from trio~=0.17->selenium) (2.4.0)\n",
      "Requirement already satisfied: idna in c:\\users\\alisa\\anaconda3\\lib\\site-packages (from trio~=0.17->selenium) (3.2)\n",
      "Requirement already satisfied: async-generator>=1.9 in c:\\users\\alisa\\anaconda3\\lib\\site-packages (from trio~=0.17->selenium) (1.10)\n",
      "Requirement already satisfied: pycparser in c:\\users\\alisa\\anaconda3\\lib\\site-packages (from cffi>=1.14->trio~=0.17->selenium) (2.20)\n",
      "Requirement already satisfied: wsproto>=0.14 in c:\\users\\alisa\\anaconda3\\lib\\site-packages (from trio-websocket~=0.9->selenium) (1.1.0)\n",
      "Requirement already satisfied: PySocks!=1.5.7,<2.0,>=1.5.6 in c:\\users\\alisa\\anaconda3\\lib\\site-packages (from urllib3[secure,socks]~=1.26->selenium) (1.7.1)\n",
      "Requirement already satisfied: pyOpenSSL>=0.14 in c:\\users\\alisa\\anaconda3\\lib\\site-packages (from urllib3[secure,socks]~=1.26->selenium) (21.0.0)\n",
      "Requirement already satisfied: cryptography>=1.3.4 in c:\\users\\alisa\\anaconda3\\lib\\site-packages (from urllib3[secure,socks]~=1.26->selenium) (3.4.8)\n",
      "Requirement already satisfied: certifi in c:\\users\\alisa\\anaconda3\\lib\\site-packages (from urllib3[secure,socks]~=1.26->selenium) (2021.10.8)\n",
      "Requirement already satisfied: six>=1.5.2 in c:\\users\\alisa\\anaconda3\\lib\\site-packages (from pyOpenSSL>=0.14->urllib3[secure,socks]~=1.26->selenium) (1.16.0)\n",
      "Requirement already satisfied: h11<1,>=0.9.0 in c:\\users\\alisa\\anaconda3\\lib\\site-packages (from wsproto>=0.14->trio-websocket~=0.9->selenium) (0.13.0)\n"
     ]
    }
   ],
   "source": [
    "pip install selenium\n"
   ]
  },
  {
   "cell_type": "code",
   "execution_count": 1,
   "id": "4a2f4a1f-9e09-4596-8ffd-e7f2cd032394",
   "metadata": {},
   "outputs": [
    {
     "name": "stdout",
     "output_type": "stream",
     "text": [
      "Requirement already satisfied: Flask-PyMongo in c:\\users\\alisa\\anaconda3\\lib\\site-packages (2.3.0)\n",
      "Requirement already satisfied: Flask>=0.11 in c:\\users\\alisa\\anaconda3\\lib\\site-packages (from Flask-PyMongo) (1.1.2)\n",
      "Requirement already satisfied: PyMongo>=3.3 in c:\\users\\alisa\\anaconda3\\lib\\site-packages (from Flask-PyMongo) (4.1.1)\n",
      "Requirement already satisfied: itsdangerous>=0.24 in c:\\users\\alisa\\anaconda3\\lib\\site-packages (from Flask>=0.11->Flask-PyMongo) (2.0.1)\n",
      "Requirement already satisfied: click>=5.1 in c:\\users\\alisa\\anaconda3\\lib\\site-packages (from Flask>=0.11->Flask-PyMongo) (8.0.3)\n",
      "Requirement already satisfied: Werkzeug>=0.15 in c:\\users\\alisa\\anaconda3\\lib\\site-packages (from Flask>=0.11->Flask-PyMongo) (2.0.2)\n",
      "Requirement already satisfied: Jinja2>=2.10.1 in c:\\users\\alisa\\anaconda3\\lib\\site-packages (from Flask>=0.11->Flask-PyMongo) (2.11.3)\n",
      "Requirement already satisfied: colorama in c:\\users\\alisa\\anaconda3\\lib\\site-packages (from click>=5.1->Flask>=0.11->Flask-PyMongo) (0.4.4)\n",
      "Requirement already satisfied: MarkupSafe>=0.23 in c:\\users\\alisa\\anaconda3\\lib\\site-packages (from Jinja2>=2.10.1->Flask>=0.11->Flask-PyMongo) (1.1.1)\n",
      "Note: you may need to restart the kernel to use updated packages.\n"
     ]
    }
   ],
   "source": [
    "pip install Flask-PyMongo\n"
   ]
  },
  {
   "cell_type": "code",
   "execution_count": 2,
   "id": "1f6711b5-67aa-4cbc-8004-77cb30ae9b4b",
   "metadata": {},
   "outputs": [
    {
     "name": "stdout",
     "output_type": "stream",
     "text": [
      "Requirement already satisfied: webdriver-manager in c:\\users\\alisa\\anaconda3\\lib\\site-packages (3.7.0)\n",
      "Requirement already satisfied: requests in c:\\users\\alisa\\anaconda3\\lib\\site-packages (from webdriver-manager) (2.26.0)\n",
      "Requirement already satisfied: python-dotenv in c:\\users\\alisa\\anaconda3\\lib\\site-packages (from webdriver-manager) (0.20.0)\n",
      "Requirement already satisfied: certifi>=2017.4.17 in c:\\users\\alisa\\anaconda3\\lib\\site-packages (from requests->webdriver-manager) (2021.10.8)\n",
      "Requirement already satisfied: charset-normalizer~=2.0.0 in c:\\users\\alisa\\anaconda3\\lib\\site-packages (from requests->webdriver-manager) (2.0.4)\n",
      "Requirement already satisfied: idna<4,>=2.5 in c:\\users\\alisa\\anaconda3\\lib\\site-packages (from requests->webdriver-manager) (3.2)\n",
      "Requirement already satisfied: urllib3<1.27,>=1.21.1 in c:\\users\\alisa\\anaconda3\\lib\\site-packages (from requests->webdriver-manager) (1.26.7)\n",
      "Note: you may need to restart the kernel to use updated packages.\n"
     ]
    }
   ],
   "source": [
    "pip install webdriver-manager"
   ]
  },
  {
   "cell_type": "code",
   "execution_count": null,
   "id": "5eeeb215-e9c1-40f8-b1c0-7b6c45e18c3f",
   "metadata": {},
   "outputs": [],
   "source": []
  }
 ],
 "metadata": {
  "kernelspec": {
   "display_name": "Python 3 (ipykernel)",
   "language": "python",
   "name": "python3"
  },
  "language_info": {
   "codemirror_mode": {
    "name": "ipython",
    "version": 3
   },
   "file_extension": ".py",
   "mimetype": "text/x-python",
   "name": "python",
   "nbconvert_exporter": "python",
   "pygments_lexer": "ipython3",
   "version": "3.9.7"
  }
 },
 "nbformat": 4,
 "nbformat_minor": 5
}
